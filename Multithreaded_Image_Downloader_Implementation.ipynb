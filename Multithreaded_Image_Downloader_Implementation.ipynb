{
  "nbformat": 4,
  "nbformat_minor": 0,
  "metadata": {
    "colab": {
      "provenance": [],
      "authorship_tag": "ABX9TyPzWRmHejc8ocTLNUebsZcX",
      "include_colab_link": true
    },
    "kernelspec": {
      "name": "python3",
      "display_name": "Python 3"
    },
    "language_info": {
      "name": "python"
    }
  },
  "cells": [
    {
      "cell_type": "markdown",
      "metadata": {
        "id": "view-in-github",
        "colab_type": "text"
      },
      "source": [
        "<a href=\"https://colab.research.google.com/github/mbuguajnr23/Deep_Learning/blob/main/Multithreaded_Image_Downloader_Implementation.ipynb\" target=\"_parent\"><img src=\"https://colab.research.google.com/assets/colab-badge.svg\" alt=\"Open In Colab\"/></a>"
      ]
    },
    {
      "cell_type": "code",
      "source": [
        "import os\n",
        "import requests\n",
        "import threading\n",
        "from queue import Queue\n",
        "from urllib.parse import urlparse"
      ],
      "metadata": {
        "id": "CzrCbpygiw3m"
      },
      "execution_count": 7,
      "outputs": []
    },
    {
      "cell_type": "code",
      "source": [
        "# Configuration\n",
        "DOWNLOAD_DIR = \"/content/downloaded_images\"  # Colab-specific directory\n",
        "NUM_THREADS = 5  # Number of threads to use for downloading\n",
        "\n",
        "# Create the download directory if it doesn't exist\n",
        "if not os.path.exists(DOWNLOAD_DIR):\n",
        "    os.makedirs(DOWNLOAD_DIR)\n",
        "\n",
        "def download_image(url, queue):\n",
        "    \"\"\"\n",
        "    Downloads an image from the given URL and saves it to the local directory.\n",
        "    \"\"\"\n",
        "    try:\n",
        "        response = requests.get(url, stream=True)\n",
        "        response.raise_for_status()  # Raise an exception for HTTP errors\n",
        "\n",
        "        # Extract the filename from the URL\n",
        "        parsed_url = urlparse(url)\n",
        "        filename = os.path.basename(parsed_url.path)\n",
        "        if not filename:\n",
        "            filename = f\"image_{queue.qsize()}.jpg\"  # Default filename if URL doesn't contain one\n",
        "\n",
        "        # Save the image to the local directory\n",
        "        filepath = os.path.join(DOWNLOAD_DIR, filename)\n",
        "        with open(filepath, \"wb\") as file:\n",
        "            for chunk in response.iter_content(chunk_size=8192):\n",
        "                file.write(chunk)\n",
        "\n",
        "        print(f\"Downloaded: {filename}\")\n",
        "    except Exception as e:\n",
        "        print(f\"Failed to download {url}: {e}\")\n",
        "    finally:\n",
        "        queue.task_done()  # Mark the task as done"
      ],
      "metadata": {
        "id": "wqEu1lONi8cQ"
      },
      "execution_count": 8,
      "outputs": []
    },
    {
      "cell_type": "code",
      "source": [
        "def worker(queue):\n",
        "    \"\"\"\n",
        "    Worker function that processes URLs from the queue.\n",
        "    \"\"\"\n",
        "    while True:\n",
        "        try:\n",
        "            url = queue.get_nowait()  # Get a URL from the queue\n",
        "        except:\n",
        "            break  # Exit if the queue is empty\n",
        "        download_image(url, queue)"
      ],
      "metadata": {
        "id": "-UTBiElmlGUg"
      },
      "execution_count": 9,
      "outputs": []
    },
    {
      "cell_type": "code",
      "source": [
        "def get_user_urls():\n",
        "    \"\"\"\n",
        "    Prompts the user to input image URLs one by one.\n",
        "    \"\"\"\n",
        "    urls = []\n",
        "    print(\"Enter the image URLs one by one. Type 'done' when finished:\")\n",
        "    while True:\n",
        "        url = input(\"Enter URL: \").strip()\n",
        "        if url.lower() == \"done\":\n",
        "            break\n",
        "        if url:  # Ensure the input is not empty\n",
        "            urls.append(url)\n",
        "    return urls"
      ],
      "metadata": {
        "id": "tMlYtSW-lSZq"
      },
      "execution_count": 10,
      "outputs": []
    },
    {
      "cell_type": "code",
      "source": [
        "def main(urls):\n",
        "    \"\"\"\n",
        "    Main function to manage the download process.\n",
        "    \"\"\"\n",
        "    # Create a queue and add all URLs to it\n",
        "    queue = Queue()\n",
        "    for url in urls:\n",
        "        queue.put(url)\n",
        "\n",
        "    # Create and start threads\n",
        "    threads = []\n",
        "    for _ in range(NUM_THREADS):\n",
        "        thread = threading.Thread(target=worker, args=(queue,))\n",
        "        thread.start()\n",
        "        threads.append(thread)\n",
        "\n",
        "    # Wait for all threads to finish\n",
        "    for thread in threads:\n",
        "        thread.join()\n",
        "\n",
        "    print(\"All downloads completed.\")"
      ],
      "metadata": {
        "id": "KwuHDnFKlVX5"
      },
      "execution_count": 11,
      "outputs": []
    },
    {
      "cell_type": "code",
      "source": [
        "if __name__ == \"__main__\":\n",
        "    # Get image URLs from user input\n",
        "    image_urls = get_user_urls()\n",
        "\n",
        "    # Start the download process\n",
        "    if image_urls:\n",
        "        main(image_urls)\n",
        "        # List files in the download directory\n",
        "        !ls /content/downloaded_images\n",
        "    else:\n",
        "        print(\"No URLs provided. Exiting.\")"
      ],
      "metadata": {
        "id": "fy-N8TrAluZN",
        "colab": {
          "base_uri": "https://localhost:8080/"
        },
        "outputId": "2b190c4d-4ee1-4f50-e0af-18a3cc64d3d2"
      },
      "execution_count": 12,
      "outputs": [
        {
          "output_type": "stream",
          "name": "stdout",
          "text": [
            "Enter the image URLs one by one. Type 'done' when finished:\n",
            "Enter URL: https://i.pinimg.com/736x/92/16/e8/9216e891fb4cb48deaf1d6b9f73c0353.jpg\n",
            "Enter URL: https://i.pinimg.com/736x/a3/88/32/a38832da298d079ac0cd2b98686e5201.jpg\n",
            "Enter URL: https://i.pinimg.com/736x/b7/56/f3/b756f38be3f7fb7c8d711ef77c16c822.jpg\n",
            "Enter URL: https://i.pinimg.com/736x/2d/8c/af/2d8cafc885db059db25aa9c7cbeef36b.jpg\n",
            "Enter URL: \n",
            "Enter URL: done\n",
            "Downloaded: a38832da298d079ac0cd2b98686e5201.jpg\n",
            "Downloaded: 9216e891fb4cb48deaf1d6b9f73c0353.jpg\n",
            "Downloaded: 2d8cafc885db059db25aa9c7cbeef36b.jpg\n",
            "Downloaded: b756f38be3f7fb7c8d711ef77c16c822.jpg\n",
            "All downloads completed.\n",
            "2d8cafc885db059db25aa9c7cbeef36b.jpg  a38832da298d079ac0cd2b98686e5201.jpg\n",
            "51ce6a3f68585bb4bf3963a09ea7c323.jpg  b756f38be3f7fb7c8d711ef77c16c822.jpg\n",
            "9216e891fb4cb48deaf1d6b9f73c0353.jpg\n"
          ]
        }
      ]
    }
  ]
}